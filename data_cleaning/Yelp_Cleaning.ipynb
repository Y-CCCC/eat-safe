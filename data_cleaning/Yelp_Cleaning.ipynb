{
 "cells": [
  {
   "cell_type": "code",
   "execution_count": 1,
   "metadata": {},
   "outputs": [],
   "source": [
    "\n",
    "\n",
    "from pyspark.sql import SparkSession\n",
    "from pyspark.sql.types import *\n",
    "import pyspark.sql.functions as F\n",
    "\n",
    "import os\n",
    "\n",
    "\n",
    "spark = SparkSession.builder.appName('Yelp_Cleaning').getOrCreate()\n"
   ]
  },
  {
   "cell_type": "code",
   "execution_count": 3,
   "metadata": {},
   "outputs": [],
   "source": [
    "business_file = 'yelp_dataset/business.json'\n",
    "\n",
    "business_sdf = spark.read.json(business_file)"
   ]
  },
  {
   "cell_type": "code",
   "execution_count": 4,
   "metadata": {},
   "outputs": [
    {
     "name": "stdout",
     "output_type": "stream",
     "text": [
      "+--------------------+--------------------+--------------------+--------------------+------------------+--------------------+-------+-------------+---------------+--------------------+-----------+------------+-----+-----+\n",
      "|             address|          attributes|         business_id|          categories|              city|               hours|is_open|     latitude|      longitude|                name|postal_code|review_count|stars|state|\n",
      "+--------------------+--------------------+--------------------+--------------------+------------------+--------------------+-------+-------------+---------------+--------------------+-----------+------------+-----+-----+\n",
      "|2818 E Camino Ace...|[,,,,,,,,,,,,,,,,...|1SWheh84yJXfytovI...|   Golf, Active Life|           Phoenix|                null|      0|   33.5221425|   -112.0184807|Arizona Biltmore ...|      85016|           5|  3.0|   AZ|\n",
      "|30 Eglinton Avenue W|[,, u'full_bar', ...|QXAEGFB4oINsVuTFx...|Specialty Food, R...|       Mississauga|[9:0-1:0, 9:0-0:0...|      1|43.6054989743|  -79.652288909|Emerald Chinese R...|    L5R 3E7|         128|  2.5|   ON|\n",
      "|10110 Johnston Rd...|[,, u'beer_and_wi...|gnKjwL_1w79qoiV3I...|Sushi Bars, Resta...|         Charlotte|[17:30-22:0, 17:3...|      1|    35.092564|     -80.859132|Musashi Japanese ...|      28210|         170|  4.0|   NC|\n",
      "|15655 W Roosevelt...|                null|xvX2CttrVhyG2z1dF...|Insurance, Financ...|          Goodyear|[8:0-17:0, 8:0-17...|      1|33.4556129678|-112.3955963552|Farmers Insurance...|      85338|           3|  5.0|   AZ|\n",
      "|4209 Stuart Andre...|[,,,,,,,, False, ...|HhyxOkGAM07SRYtlQ...|Plumbing, Shoppin...|         Charlotte|[7:0-23:0, 7:0-23...|      1|   35.1900119|    -80.8872232| Queen City Plumbing|      28217|           4|  4.0|   NC|\n",
      "|Credit Valley Tow...|[,,,,,,,,,, {'gar...|68dUKd8_8liJ7in4a...|Shipping Centers,...|       Mississauga|[9:0-19:0, 9:0-19...|      1|   43.5994753|    -79.7115835|       The UPS Store|    L5V 0B1|           3|  2.5|   ON|\n",
      "|20 Douglas Woods ...|[,,,,,,,,,, {'gar...|5JucpCfHZltJh5r1J...|Beauty & Spas, Ha...|           Calgary|                null|      1|   50.9436456|   -114.0018283|    Edgeworxx Studio|    T2Z 1K4|           7|  3.5|   AB|\n",
      "|4545 E Tropicana ...|[,,,,,,, False,, ...|gbQN7vr_caG_A1ugS...|Hair Salons, Hair...|         Las Vegas|[10:0-19:0, 10:0-...|      1|    36.099872|    -115.074574|           Supercuts|      89121|           3|  3.5|   NV|\n",
      "|5940 W Union Hill...|[,,,,,,, False,, ...|Y6iyemLX_oylRpnr3...|Nail Salons, Beau...|          Glendale|[10:0-17:0,, 10:0...|      0|   33.6548146|   -112.1885676|Vita Bella Fine D...|      85308|           8|  5.0|   AZ|\n",
      "|     21689 Lorain Rd|[False,,,,,,,,, T...|4GBVPIYRvzGh4K4Tk...|Beauty & Spas, Na...|     Fairview Park|[9:0-19:0,, 9:0-1...|      1|41.4408252653| -81.8540965503| Options Salon & Spa|      44126|           8|  4.5|   OH|\n",
      "|1210 8th Street S...|[,,,,,,, False,,,...|fcXOEZdXYeZqnQ3lG...|Local Services, P...|           Calgary|[9:0-17:0, 9:0-17...|      1|    51.041771|    -114.081109|Nucleus Informati...|    T2R 1L3|           5|  2.0|   AB|\n",
      "|2450 E Indian Sch...|[,, u'none', {'ro...|1Dfx3zM-rW4n-31Ke...|Restaurants, Brea...|           Phoenix|[7:0-1:0, 7:0-0:0...|      1|   33.4951941|   -112.0285876|           Taco Bell|      85016|          18|  3.0|   AZ|\n",
      "|119 Landings Dr, ...|[,, 'beer_and_win...|5t3KVdMnFgAYmSl1w...|Bars, Nightlife, ...|       Mooresville|[10:0-1:0, 10:0-1...|      1|35.5274098057| -80.8680032061|The Kilted Buffal...|      28117|           9|  3.5|   NC|\n",
      "|     5981 Andrews Rd|[,, u'none', None...|fweCYi8FmbJXHCqLn...|Italian, Restaura...|Mentor-on-the-Lake|[10:0-1:0, 10:0-0...|      1|     41.70852|     -81.359556|       Marco's Pizza|      44060|          16|  4.0|   OH|\n",
      "|        4145 Erie St|[,,,,,,,,, True, ...|-K4gAv8_vjx8-2Bxk...|      Bakeries, Food|        Willoughby|[11:0-17:0,, 10:0...|      1|   41.6398599|    -81.4063963|          Baby Cakes|      44094|           7|  3.0|   OH|\n",
      "|    1455 16th Avenue|[,,,,,,, True,,, ...|A98xW4qb7vOTguggH...|Fitness & Instruc...|     Richmond Hill|[16:0-21:30, 16:0...|      1| 43.861502576| -79.3884991854|   Hot Yoga Wellness|    L4B 3G6|           4|  4.0|   ON|\n",
      "|4848 E Cactus Rd,...|[,,,,,,,,, True, ...|giC3pVVFxCRR89rAp...|Hair Stylists, Be...|        Scottsdale|[8:0-17:0, 0:0-0:...|      1|    33.600071|    -111.977371|          Knot Salon|      85254|           5|  5.0|   AZ|\n",
      "|1775 E Tropicana ...|[,, u'full_bar', ...|PZ-LZzSlhSe9utkQY...|Restaurants, Italian|         Las Vegas|                null|      0|   36.1000163|   -115.1285285|Carluccio's Tivol...|      89119|          40|  4.0|   NV|\n",
      "|                    |[,,,,,,,,, True,,...|nh_kQ16QAoXWwqZ05...|Event Planning & ...|         Las Vegas|[0:0-0:0, 0:0-0:0...|      1|   36.1165487|   -115.0881146|Myron Hensel Phot...|      89121|          21|  5.0|   NV|\n",
      "|445 King Street W...|[True,,,,,,,,,,, ...|zSpQmEBvRe3IhTUlM...|Trainers, Health ...|           Toronto|[6:0-22:0, 6:0-22...|      1|   43.6450415|    -79.3957986|  Totum Life Science|    M5V 1K4|          23|  4.0|   ON|\n",
      "+--------------------+--------------------+--------------------+--------------------+------------------+--------------------+-------+-------------+---------------+--------------------+-----------+------------+-----+-----+\n",
      "only showing top 20 rows\n",
      "\n"
     ]
    }
   ],
   "source": [
    "business_sdf.show()"
   ]
  },
  {
   "cell_type": "code",
   "execution_count": 4,
   "metadata": {},
   "outputs": [],
   "source": [
    "user_file = 'yelp_dataset/user.json'\n",
    "user_sdf = spark.read.json(user_file)"
   ]
  },
  {
   "cell_type": "code",
   "execution_count": 6,
   "metadata": {},
   "outputs": [
    {
     "name": "stdout",
     "output_type": "stream",
     "text": [
      "+-------------+---------------+---------------+----------------+--------------+---------------+---------------+---------------+-----------------+----------------+------------------+-----------------+-----+--------------------+----+--------------------+-----+---------+------------+------+--------------------+-------------------+\n",
      "|average_stars|compliment_cool|compliment_cute|compliment_funny|compliment_hot|compliment_list|compliment_more|compliment_note|compliment_photos|compliment_plain|compliment_profile|compliment_writer| cool|               elite|fans|             friends|funny|     name|review_count|useful|             user_id|      yelping_since|\n",
      "+-------------+---------------+---------------+----------------+--------------+---------------+---------------+---------------+-----------------+----------------+------------------+-----------------+-----+--------------------+----+--------------------+-----+---------+------------+------+--------------------+-------------------+\n",
      "|         4.03|              1|              0|               1|             2|              0|              0|              1|                0|               1|                 0|                2|   25|      2015,2016,2017|   5|c78V-rj8NQcQjOI8K...|   17|   Rashmi|          95|    84|l6BmjZMeQD3rDxWUb...|2013-10-08 23:11:33|\n",
      "|         3.63|              1|              0|               1|             1|              0|              0|              0|                0|               0|                 0|                0|   16|                    |   4|kEBTgDvFX754S68Fl...|   22|    Jenna|          33|    48|4XChL029mKr5hydo7...|2013-02-21 22:29:06|\n",
      "|         3.71|              0|              0|               0|             0|              0|              0|              1|                0|               0|                 0|                0|   10|                    |   0|4N-HU_T32hLENLnts...|    8|    David|          16|    28|bc8C_eETBWL0olvFS...|2013-10-04 00:16:10|\n",
      "|         4.85|              0|              0|               0|             1|              0|              0|              0|                0|               2|                 0|                1|   14|                    |   5|RZ6wS38wnlXyj-OOd...|    4|   Angela|          17|    30|dD0gZpBctWGdWo9Wl...|2014-05-22 15:57:30|\n",
      "|         4.08|             80|              0|              80|            28|              1|              1|             16|                5|              57|                 0|               25|  665| 2015,2016,2017,2018|  39|mbwrZ-RS76V1HoJ0b...|  279|    Nancy|         361|  1114|MM4RJAeH6yuaN8oZD...|2013-10-23 07:02:50|\n",
      "|          4.2|            483|             44|             483|           350|              3|             46|            221|              195|             404|                50|              149| 3048| 2015,2016,2017,2018| 186|AJxDPGVTzefy3vSHW...| 2424|  Marilyn|         214|  3475|0rK89TS8xqy1wI4nY...|2011-06-23 08:05:13|\n",
      "|         4.39|           4991|            889|            4991|          5233|            152|            314|           1600|              428|            3635|               333|             1086|15319|2006,2007,2008,20...| 696|RJQTcJVlBsJ3_Yo0J...|19356|    Keane|        1122| 13311|TEtzbpgA2BFBrC0y0...|2006-02-15 18:29:35|\n",
      "|         4.33|              0|              0|               0|             0|              0|              0|              0|                0|               0|                 0|                0|    1|                    |   0|d1z7Xc9RG5TVBkdUP...|    0|    Andre|           6|     1|KGuqerdeNhxzXZEyB...|2014-06-07 01:50:09|\n",
      "|         4.21|             95|              7|              95|            60|              3|             16|             31|                2|              72|                 7|               34| 1244|2006,2007,2008,20...|  57|ctr_BlCf3Ogny-vLs...|  693|    Tanya|         859|  1630|T0gWkTHWRChVUe_Dn...|2005-07-20 22:38:17|\n",
      "|         4.53|             14|              2|              14|            13|              0|              3|             12|                5|               8|                 0|                3|  185|                    |  15|N-xeG3U6rUkjVtQ0o...|   70|    Trace|         124|   202|NQffx45eJaeqhFcMa...|2008-12-10 22:59:45|\n",
      "|          3.6|              5|              0|               5|             1|              0|              0|              4|                3|              11|                 0|                4|   34|           2017,2018|   9|CfGCj80EdA-xS-mTW...|   26|    Peter|          47|    57|gvXtMj3XuPr0xHjgm...|2014-01-05 20:45:54|\n",
      "|         3.48|              1|              0|               1|             0|              0|              1|              2|                0|               2|                 0|                0|   22|                    |   3|tYyOnNs7tBfqAT9IC...|   16|     Edie|          77|    71|_DaFdmq0gtXf1spn1...|2009-10-26 01:00:40|\n",
      "|          3.5|              0|              0|               0|             0|              0|              0|              0|                0|               1|                 0|                1|    3|                    |   2|Dg8_xYNvjVC6KGNRc...|    4|Gabriella|          11|    12|FTWKZZeLb_0ZJRXQg...|2012-11-13 00:23:51|\n",
      "|         3.95|              4|              0|               4|             0|              0|              1|              2|                1|               1|                 0|                1|   12|                    |   0|_5p_nO7OczVP7czj_...|   17|    Emily|          22|    31|US0VOSMFs9U0Nkl5V...|2010-01-23 04:55:04|\n",
      "|          3.9|             49|             11|              49|            45|              0|              7|             25|               29|              29|                 4|               13|  342|                    |  42|mFwRTTDW0Yr-rFkTF...|  285| Victoria|         143|   483|fktnDzpjYBUG5a-w_...|2009-04-09 01:05:03|\n",
      "|          4.5|              0|              0|               0|             3|              0|              0|              0|                1|               1|                 0|                0|    5|                    |   1|xVv_pVxAcOfY_xBjB...|    6|  Richard|           9|    11|iPJAN6rJHv92WE2h9...|2013-09-30 23:58:16|\n",
      "|         3.79|            185|             18|             185|            89|              8|              8|             83|               42|             196|                11|               56|  586|2011,2012,2013,20...|  71|Xqo1ru1F7srvbUJaC...|  417|      Jin|         732|  1104|AWCY8laHjH0-3HMT0...|2010-07-09 15:53:01|\n",
      "|          4.1|              1|              0|               1|             2|              0|              1|              2|                1|               1|                 0|                2|   34|                    |   4|9ljCrn-qgfAMRS5wL...|   22|    Cyndi|          57|    72|CXi7I5J-ItLGJNyKP...|2011-06-27 05:24:10|\n",
      "|         3.58|            246|             13|             246|           151|              1|             12|             78|               44|             188|                13|              101| 2532|2014,2015,2016,20...| 124|zH2whhmSEhwKUqPjg...| 1501|    Diana|         453|  3578|3TJcP0stfxjWGsLuG...|2012-09-14 21:40:12|\n",
      "|          3.1|              0|              0|               0|             0|              0|              0|              0|                0|               0|                 0|                0|    2|                    |   0|a4kpoV3nrxRPUHR6z...|    3|    Jamey|          44|    16|hQ98T_hy1CoSWw55z...|2015-11-02 23:41:13|\n",
      "+-------------+---------------+---------------+----------------+--------------+---------------+---------------+---------------+-----------------+----------------+------------------+-----------------+-----+--------------------+----+--------------------+-----+---------+------------+------+--------------------+-------------------+\n",
      "only showing top 20 rows\n",
      "\n"
     ]
    }
   ],
   "source": [
    "user_sdf.show()"
   ]
  },
  {
   "cell_type": "code",
   "execution_count": 2,
   "metadata": {},
   "outputs": [],
   "source": [
    "review_file = 'yelp_dataset/review.json'\n",
    "review_sdf = spark.read.json(review_file)"
   ]
  },
  {
   "cell_type": "code",
   "execution_count": 8,
   "metadata": {},
   "outputs": [
    {
     "name": "stdout",
     "output_type": "stream",
     "text": [
      "+--------------------+----+-------------------+-----+--------------------+-----+--------------------+------+--------------------+\n",
      "|         business_id|cool|               date|funny|           review_id|stars|                text|useful|             user_id|\n",
      "+--------------------+----+-------------------+-----+--------------------+-----+--------------------+------+--------------------+\n",
      "|ujmEBvifdJM6h6RLv...|   0|2013-05-07 04:34:36|    1|Q1sbwvVQXV2734tPg...|  1.0|Total bill for th...|     6|hG7b0MtEbXx5QzbzE...|\n",
      "|NZnhc2sEQy3RmzKTZ...|   0|2017-01-14 21:30:33|    0|GJXCdrto3ASJOqKeV...|  5.0|I *adore* Travis ...|     0|yXQM5uF2jS6es16SJ...|\n",
      "|WTqjgwHlXbSFevF32...|   0|2016-11-09 20:09:03|    0|2TzJjDVDEuAW6MR5V...|  5.0|I have to say tha...|     3|n6-Gk65cPZL6Uz8qR...|\n",
      "|ikCg8xy5JIg_NGPx-...|   0|2018-01-09 20:56:38|    0|yi0R0Ugj_xUx_Nek0...|  5.0|Went in for a lun...|     0|dacAIZ6fTM6mqwW5u...|\n",
      "|b1b1eb3uo-w561D0Z...|   0|2018-01-30 23:07:38|    0|11a8sVPMUFtaC7_AB...|  1.0|Today was my seco...|     7|ssoyf2_x0EQMed6fg...|\n",
      "|eU_713ec6fTGNO4Be...|   0|2013-01-20 13:25:59|    0|fdiNeiN_hoCxCMy2w...|  4.0|I'll be the first...|     0|w31MKYsNFMrjhWxxA...|\n",
      "|3fw2X5bZYeW9xCz_z...|   5|2016-05-07 01:21:02|    4|G7XHMxG0bx9oBJNEC...|  3.0|Tracy dessert had...|     5|jlu4CztcSxrKx56ba...|\n",
      "|zvO-PJCpNk4fgAVUn...|   1|2010-10-05 19:12:35|    1|8e9HxxLjjqc9ez5ez...|  1.0|This place has go...|     3|d6xvYpyzcfbF_AZ8v...|\n",
      "|b2jN2mm9Wf3RcrZCg...|   0|2015-01-18 14:04:18|    0|qrffudO73zsslZbe8...|  2.0|I was really look...|     1|sG_h0dIzTKWa3Q6fm...|\n",
      "|oxwGyA17NL6c5t1Et...|   1|2012-02-29 21:52:43|    0|RS_GTIT6836bCaPy6...|  3.0|It's a giant Best...|     1|nMeCE5-xsdleyxYuN...|\n",
      "|8mIrX_LrOnAqWsB5J...|   0|2011-11-30 02:11:15|    0|kbtscdyz6lvrtGjD1...|  4.0|Like walking back...|     0|FIk4lQQu1eTe2EpzQ...|\n",
      "|mRUVMJkUGxrByzMQ2...|   0|2017-12-15 23:27:08|    1|-I5umRTkhw15RqpKM...|  1.0|Walked in around ...|     0|-mA3-1mN4JIEkqOtd...|\n",
      "|FxLfqxdYPA6Z85PFK...|   0|2016-05-07 01:36:53|    0|Z7wgXp98wYB57QdRY...|  4.0|Wow. So surprised...|     0|GYNnVehQeXjty0xH7...|\n",
      "|LUN6swQYa4xJKaM_U...|   0|2018-04-27 20:25:26|    0|qlXw1JQ0UodW7qrmV...|  4.0|Michael from Red ...|     0|bAhqAPoWaZYcyYi7b...|\n",
      "|AakkkTuGZA2KBodKi...|   0|2012-07-16 00:37:14|    1|JVcjMhlavKKn3UIt9...|  1.0|I cannot believe ...|     1|TpyOT5E16YASd7EWj...|\n",
      "|YvrylyuWgbP90RgMq...|   0|2017-04-07 21:27:49|    0|svK3nBU7Rk8VfGorl...|  5.0|You can't really ...|     0|NJlxGtouq06hhC7sS...|\n",
      "|NyLYY8q1-H3hfsTwu...|   0|2015-01-03 22:47:34|    0|1wVA2-vQIuW_ClmXk...|  4.0|Great lunch today...|     0|86J5DwcFk4f4In1Vx...|\n",
      "|cHdJXLlKNWixBXpDw...|   1|2015-04-01 16:30:00|    7|6BnQwlxRn7ZuWdzni...|  3.0|I love chinese fo...|     1|JSrP-dUmLlwZiI7Dp...|\n",
      "|6lj2BJ4tJeu7db5as...|   0|2017-05-26 01:23:19|    0|rEITo90tpyKmEfNDp...|  5.0|We've been a huge...|     0|6Fz_nus_OG4gar721...|\n",
      "|y-Iw6dZflNix4BdwI...|   0|2014-06-27 21:19:23|    0|4bUyL7lzoWzDZaJET...|  3.0|Good selection of...|     0|_N7Ndn29bpll_961o...|\n",
      "+--------------------+----+-------------------+-----+--------------------+-----+--------------------+------+--------------------+\n",
      "only showing top 20 rows\n",
      "\n"
     ]
    }
   ],
   "source": [
    "review_sdf.show()"
   ]
  },
  {
   "cell_type": "code",
   "execution_count": 3,
   "metadata": {},
   "outputs": [
    {
     "ename": "NameError",
     "evalue": "name 'business_sdf' is not defined",
     "output_type": "error",
     "traceback": [
      "\u001b[0;31m---------------------------------------------------------------------------\u001b[0m",
      "\u001b[0;31mNameError\u001b[0m                                 Traceback (most recent call last)",
      "\u001b[0;32m<ipython-input-3-81bdd9308cce>\u001b[0m in \u001b[0;36m<module>\u001b[0;34m\u001b[0m\n\u001b[0;32m----> 1\u001b[0;31m \u001b[0mbusiness_sdf\u001b[0m \u001b[0;34m=\u001b[0m \u001b[0mbusiness_sdf\u001b[0m\u001b[0;34m.\u001b[0m\u001b[0mdrop\u001b[0m\u001b[0;34m(\u001b[0m\u001b[0;34m\"attributes\"\u001b[0m\u001b[0;34m)\u001b[0m\u001b[0;34m.\u001b[0m\u001b[0mdrop\u001b[0m\u001b[0;34m(\u001b[0m\u001b[0;34m\"is_open\"\u001b[0m\u001b[0;34m)\u001b[0m\u001b[0;34m.\u001b[0m\u001b[0mdrop\u001b[0m\u001b[0;34m(\u001b[0m\u001b[0;34m\"postal_code\"\u001b[0m\u001b[0;34m)\u001b[0m\u001b[0;34m.\u001b[0m\u001b[0mdrop\u001b[0m\u001b[0;34m(\u001b[0m\u001b[0;34m\"review_count\"\u001b[0m\u001b[0;34m)\u001b[0m\u001b[0;34m\u001b[0m\u001b[0;34m\u001b[0m\u001b[0m\n\u001b[0m\u001b[1;32m      2\u001b[0m \u001b[0mreview_sdf\u001b[0m \u001b[0;34m=\u001b[0m \u001b[0mreview_sdf\u001b[0m\u001b[0;34m.\u001b[0m\u001b[0mdrop\u001b[0m\u001b[0;34m(\u001b[0m\u001b[0;34m\"cool\"\u001b[0m\u001b[0;34m)\u001b[0m\u001b[0;34m.\u001b[0m\u001b[0mdrop\u001b[0m\u001b[0;34m(\u001b[0m\u001b[0;34m\"date\"\u001b[0m\u001b[0;34m)\u001b[0m\u001b[0;34m.\u001b[0m\u001b[0mdrop\u001b[0m\u001b[0;34m(\u001b[0m\u001b[0;34m\"funny\"\u001b[0m\u001b[0;34m)\u001b[0m\u001b[0;34m.\u001b[0m\u001b[0mdrop\u001b[0m\u001b[0;34m(\u001b[0m\u001b[0;34m\"useful\"\u001b[0m\u001b[0;34m)\u001b[0m\u001b[0;34m\u001b[0m\u001b[0;34m\u001b[0m\u001b[0m\n\u001b[1;32m      3\u001b[0m \u001b[0muser_sdf\u001b[0m \u001b[0;34m=\u001b[0m \u001b[0muser_sdf\u001b[0m\u001b[0;34m.\u001b[0m\u001b[0mdrop\u001b[0m\u001b[0;34m(\u001b[0m\u001b[0;34m\"yelping_since\"\u001b[0m\u001b[0;34m)\u001b[0m\u001b[0;34m.\u001b[0m\u001b[0mdrop\u001b[0m\u001b[0;34m(\u001b[0m\u001b[0;34m\"friends\"\u001b[0m\u001b[0;34m)\u001b[0m\u001b[0;34m.\u001b[0m\u001b[0mdrop\u001b[0m\u001b[0;34m(\u001b[0m\u001b[0;34m\"funny\"\u001b[0m\u001b[0;34m)\u001b[0m\u001b[0;34m.\u001b[0m\u001b[0mdrop\u001b[0m\u001b[0;34m(\u001b[0m\u001b[0;34m\"useful\"\u001b[0m\u001b[0;34m)\u001b[0m\u001b[0;34m.\u001b[0m\u001b[0mdrop\u001b[0m\u001b[0;34m(\u001b[0m\u001b[0;34m\"cool\"\u001b[0m\u001b[0;34m)\u001b[0m\u001b[0;34m.\u001b[0m\u001b[0mdrop\u001b[0m\u001b[0;34m(\u001b[0m\u001b[0;34m\"fans\"\u001b[0m\u001b[0;34m)\u001b[0m\u001b[0;34m.\u001b[0m\u001b[0mdrop\u001b[0m\u001b[0;34m(\u001b[0m\u001b[0;34m\"elite\"\u001b[0m\u001b[0;34m)\u001b[0m\u001b[0;34m.\u001b[0m\u001b[0mdrop\u001b[0m\u001b[0;34m(\u001b[0m\u001b[0;34m\"compliment_hot\"\u001b[0m\u001b[0;34m)\u001b[0m\u001b[0;34m.\u001b[0m\u001b[0mdrop\u001b[0m\u001b[0;34m(\u001b[0m\u001b[0;34m\"compliment_more\"\u001b[0m\u001b[0;34m)\u001b[0m\u001b[0;34m.\u001b[0m\u001b[0mdrop\u001b[0m\u001b[0;34m(\u001b[0m\u001b[0;34m\"compliment_profile\"\u001b[0m\u001b[0;34m)\u001b[0m\u001b[0;34m.\u001b[0m\u001b[0mdrop\u001b[0m\u001b[0;34m(\u001b[0m\u001b[0;34m\"compliment_cute\"\u001b[0m\u001b[0;34m)\u001b[0m\u001b[0;34m.\u001b[0m\u001b[0mdrop\u001b[0m\u001b[0;34m(\u001b[0m\u001b[0;34m\"compliment_list\"\u001b[0m\u001b[0;34m)\u001b[0m\u001b[0;34m.\u001b[0m\u001b[0mdrop\u001b[0m\u001b[0;34m(\u001b[0m\u001b[0;34m\"compliment_note\"\u001b[0m\u001b[0;34m)\u001b[0m\u001b[0;34m.\u001b[0m\u001b[0mdrop\u001b[0m\u001b[0;34m(\u001b[0m\u001b[0;34m\"compliment_plain\"\u001b[0m\u001b[0;34m)\u001b[0m\u001b[0;34m.\u001b[0m\u001b[0mdrop\u001b[0m\u001b[0;34m(\u001b[0m\u001b[0;34m\"compliment_cool\"\u001b[0m\u001b[0;34m)\u001b[0m\u001b[0;34m.\u001b[0m\u001b[0mdrop\u001b[0m\u001b[0;34m(\u001b[0m\u001b[0;34m\"compliment_funny\"\u001b[0m\u001b[0;34m)\u001b[0m\u001b[0;34m.\u001b[0m\u001b[0mdrop\u001b[0m\u001b[0;34m(\u001b[0m\u001b[0;34m\"compliment_writer\"\u001b[0m\u001b[0;34m)\u001b[0m\u001b[0;34m.\u001b[0m\u001b[0mdrop\u001b[0m\u001b[0;34m(\u001b[0m\u001b[0;34m\"compliment_photos\"\u001b[0m\u001b[0;34m)\u001b[0m\u001b[0;34m\u001b[0m\u001b[0;34m\u001b[0m\u001b[0m\n",
      "\u001b[0;31mNameError\u001b[0m: name 'business_sdf' is not defined"
     ]
    }
   ],
   "source": [
    "business_sdf = business_sdf.drop(\"attributes\").drop(\"is_open\").drop(\"postal_code\").drop(\"review_count\")\n",
    "review_sdf = review_sdf.drop(\"cool\").drop(\"date\").drop(\"funny\").drop(\"useful\")\n",
    "user_sdf = user_sdf.drop(\"yelping_since\").drop(\"friends\").drop(\"funny\").drop(\"useful\").drop(\"cool\").drop(\"fans\").drop(\"elite\").drop(\"compliment_hot\").drop(\"compliment_more\").drop(\"compliment_profile\").drop(\"compliment_cute\").drop(\"compliment_list\").drop(\"compliment_note\").drop(\"compliment_plain\").drop(\"compliment_cool\").drop(\"compliment_funny\").drop(\"compliment_writer\").drop(\"compliment_photos\")"
   ]
  },
  {
   "cell_type": "code",
   "execution_count": 3,
   "metadata": {},
   "outputs": [],
   "source": [
    "review_sdf = review_sdf.drop(\"cool\").drop(\"date\").drop(\"funny\").drop(\"useful\")"
   ]
  },
  {
   "cell_type": "code",
   "execution_count": 10,
   "metadata": {},
   "outputs": [
    {
     "name": "stdout",
     "output_type": "stream",
     "text": [
      "+--------------------+--------------------+--------------------+------------------+--------------------+-------------+---------------+--------------------+-----+-----+\n",
      "|             address|         business_id|          categories|              city|               hours|     latitude|      longitude|                name|stars|state|\n",
      "+--------------------+--------------------+--------------------+------------------+--------------------+-------------+---------------+--------------------+-----+-----+\n",
      "|2818 E Camino Ace...|1SWheh84yJXfytovI...|   Golf, Active Life|           Phoenix|                null|   33.5221425|   -112.0184807|Arizona Biltmore ...|  3.0|   AZ|\n",
      "|30 Eglinton Avenue W|QXAEGFB4oINsVuTFx...|Specialty Food, R...|       Mississauga|[9:0-1:0, 9:0-0:0...|43.6054989743|  -79.652288909|Emerald Chinese R...|  2.5|   ON|\n",
      "|10110 Johnston Rd...|gnKjwL_1w79qoiV3I...|Sushi Bars, Resta...|         Charlotte|[17:30-22:0, 17:3...|    35.092564|     -80.859132|Musashi Japanese ...|  4.0|   NC|\n",
      "|15655 W Roosevelt...|xvX2CttrVhyG2z1dF...|Insurance, Financ...|          Goodyear|[8:0-17:0, 8:0-17...|33.4556129678|-112.3955963552|Farmers Insurance...|  5.0|   AZ|\n",
      "|4209 Stuart Andre...|HhyxOkGAM07SRYtlQ...|Plumbing, Shoppin...|         Charlotte|[7:0-23:0, 7:0-23...|   35.1900119|    -80.8872232| Queen City Plumbing|  4.0|   NC|\n",
      "|Credit Valley Tow...|68dUKd8_8liJ7in4a...|Shipping Centers,...|       Mississauga|[9:0-19:0, 9:0-19...|   43.5994753|    -79.7115835|       The UPS Store|  2.5|   ON|\n",
      "|20 Douglas Woods ...|5JucpCfHZltJh5r1J...|Beauty & Spas, Ha...|           Calgary|                null|   50.9436456|   -114.0018283|    Edgeworxx Studio|  3.5|   AB|\n",
      "|4545 E Tropicana ...|gbQN7vr_caG_A1ugS...|Hair Salons, Hair...|         Las Vegas|[10:0-19:0, 10:0-...|    36.099872|    -115.074574|           Supercuts|  3.5|   NV|\n",
      "|5940 W Union Hill...|Y6iyemLX_oylRpnr3...|Nail Salons, Beau...|          Glendale|[10:0-17:0,, 10:0...|   33.6548146|   -112.1885676|Vita Bella Fine D...|  5.0|   AZ|\n",
      "|     21689 Lorain Rd|4GBVPIYRvzGh4K4Tk...|Beauty & Spas, Na...|     Fairview Park|[9:0-19:0,, 9:0-1...|41.4408252653| -81.8540965503| Options Salon & Spa|  4.5|   OH|\n",
      "|1210 8th Street S...|fcXOEZdXYeZqnQ3lG...|Local Services, P...|           Calgary|[9:0-17:0, 9:0-17...|    51.041771|    -114.081109|Nucleus Informati...|  2.0|   AB|\n",
      "|2450 E Indian Sch...|1Dfx3zM-rW4n-31Ke...|Restaurants, Brea...|           Phoenix|[7:0-1:0, 7:0-0:0...|   33.4951941|   -112.0285876|           Taco Bell|  3.0|   AZ|\n",
      "|119 Landings Dr, ...|5t3KVdMnFgAYmSl1w...|Bars, Nightlife, ...|       Mooresville|[10:0-1:0, 10:0-1...|35.5274098057| -80.8680032061|The Kilted Buffal...|  3.5|   NC|\n",
      "|     5981 Andrews Rd|fweCYi8FmbJXHCqLn...|Italian, Restaura...|Mentor-on-the-Lake|[10:0-1:0, 10:0-0...|     41.70852|     -81.359556|       Marco's Pizza|  4.0|   OH|\n",
      "|        4145 Erie St|-K4gAv8_vjx8-2Bxk...|      Bakeries, Food|        Willoughby|[11:0-17:0,, 10:0...|   41.6398599|    -81.4063963|          Baby Cakes|  3.0|   OH|\n",
      "|    1455 16th Avenue|A98xW4qb7vOTguggH...|Fitness & Instruc...|     Richmond Hill|[16:0-21:30, 16:0...| 43.861502576| -79.3884991854|   Hot Yoga Wellness|  4.0|   ON|\n",
      "|4848 E Cactus Rd,...|giC3pVVFxCRR89rAp...|Hair Stylists, Be...|        Scottsdale|[8:0-17:0, 0:0-0:...|    33.600071|    -111.977371|          Knot Salon|  5.0|   AZ|\n",
      "|1775 E Tropicana ...|PZ-LZzSlhSe9utkQY...|Restaurants, Italian|         Las Vegas|                null|   36.1000163|   -115.1285285|Carluccio's Tivol...|  4.0|   NV|\n",
      "|                    |nh_kQ16QAoXWwqZ05...|Event Planning & ...|         Las Vegas|[0:0-0:0, 0:0-0:0...|   36.1165487|   -115.0881146|Myron Hensel Phot...|  5.0|   NV|\n",
      "|445 King Street W...|zSpQmEBvRe3IhTUlM...|Trainers, Health ...|           Toronto|[6:0-22:0, 6:0-22...|   43.6450415|    -79.3957986|  Totum Life Science|  4.0|   ON|\n",
      "+--------------------+--------------------+--------------------+------------------+--------------------+-------------+---------------+--------------------+-----+-----+\n",
      "only showing top 20 rows\n",
      "\n"
     ]
    }
   ],
   "source": [
    "business_sdf.show()"
   ]
  },
  {
   "cell_type": "code",
   "execution_count": 11,
   "metadata": {},
   "outputs": [
    {
     "name": "stdout",
     "output_type": "stream",
     "text": [
      "+-------------+---------+------------+--------------------+\n",
      "|average_stars|     name|review_count|             user_id|\n",
      "+-------------+---------+------------+--------------------+\n",
      "|         4.03|   Rashmi|          95|l6BmjZMeQD3rDxWUb...|\n",
      "|         3.63|    Jenna|          33|4XChL029mKr5hydo7...|\n",
      "|         3.71|    David|          16|bc8C_eETBWL0olvFS...|\n",
      "|         4.85|   Angela|          17|dD0gZpBctWGdWo9Wl...|\n",
      "|         4.08|    Nancy|         361|MM4RJAeH6yuaN8oZD...|\n",
      "|          4.2|  Marilyn|         214|0rK89TS8xqy1wI4nY...|\n",
      "|         4.39|    Keane|        1122|TEtzbpgA2BFBrC0y0...|\n",
      "|         4.33|    Andre|           6|KGuqerdeNhxzXZEyB...|\n",
      "|         4.21|    Tanya|         859|T0gWkTHWRChVUe_Dn...|\n",
      "|         4.53|    Trace|         124|NQffx45eJaeqhFcMa...|\n",
      "|          3.6|    Peter|          47|gvXtMj3XuPr0xHjgm...|\n",
      "|         3.48|     Edie|          77|_DaFdmq0gtXf1spn1...|\n",
      "|          3.5|Gabriella|          11|FTWKZZeLb_0ZJRXQg...|\n",
      "|         3.95|    Emily|          22|US0VOSMFs9U0Nkl5V...|\n",
      "|          3.9| Victoria|         143|fktnDzpjYBUG5a-w_...|\n",
      "|          4.5|  Richard|           9|iPJAN6rJHv92WE2h9...|\n",
      "|         3.79|      Jin|         732|AWCY8laHjH0-3HMT0...|\n",
      "|          4.1|    Cyndi|          57|CXi7I5J-ItLGJNyKP...|\n",
      "|         3.58|    Diana|         453|3TJcP0stfxjWGsLuG...|\n",
      "|          3.1|    Jamey|          44|hQ98T_hy1CoSWw55z...|\n",
      "+-------------+---------+------------+--------------------+\n",
      "only showing top 20 rows\n",
      "\n"
     ]
    }
   ],
   "source": [
    "user_sdf.show()"
   ]
  },
  {
   "cell_type": "code",
   "execution_count": 4,
   "metadata": {},
   "outputs": [
    {
     "name": "stdout",
     "output_type": "stream",
     "text": [
      "+--------------------+--------------------+-----+--------------------+--------------------+\n",
      "|         business_id|           review_id|stars|                text|             user_id|\n",
      "+--------------------+--------------------+-----+--------------------+--------------------+\n",
      "|ujmEBvifdJM6h6RLv...|Q1sbwvVQXV2734tPg...|  1.0|Total bill for th...|hG7b0MtEbXx5QzbzE...|\n",
      "|NZnhc2sEQy3RmzKTZ...|GJXCdrto3ASJOqKeV...|  5.0|I *adore* Travis ...|yXQM5uF2jS6es16SJ...|\n",
      "|WTqjgwHlXbSFevF32...|2TzJjDVDEuAW6MR5V...|  5.0|I have to say tha...|n6-Gk65cPZL6Uz8qR...|\n",
      "|ikCg8xy5JIg_NGPx-...|yi0R0Ugj_xUx_Nek0...|  5.0|Went in for a lun...|dacAIZ6fTM6mqwW5u...|\n",
      "|b1b1eb3uo-w561D0Z...|11a8sVPMUFtaC7_AB...|  1.0|Today was my seco...|ssoyf2_x0EQMed6fg...|\n",
      "|eU_713ec6fTGNO4Be...|fdiNeiN_hoCxCMy2w...|  4.0|I'll be the first...|w31MKYsNFMrjhWxxA...|\n",
      "|3fw2X5bZYeW9xCz_z...|G7XHMxG0bx9oBJNEC...|  3.0|Tracy dessert had...|jlu4CztcSxrKx56ba...|\n",
      "|zvO-PJCpNk4fgAVUn...|8e9HxxLjjqc9ez5ez...|  1.0|This place has go...|d6xvYpyzcfbF_AZ8v...|\n",
      "|b2jN2mm9Wf3RcrZCg...|qrffudO73zsslZbe8...|  2.0|I was really look...|sG_h0dIzTKWa3Q6fm...|\n",
      "|oxwGyA17NL6c5t1Et...|RS_GTIT6836bCaPy6...|  3.0|It's a giant Best...|nMeCE5-xsdleyxYuN...|\n",
      "|8mIrX_LrOnAqWsB5J...|kbtscdyz6lvrtGjD1...|  4.0|Like walking back...|FIk4lQQu1eTe2EpzQ...|\n",
      "|mRUVMJkUGxrByzMQ2...|-I5umRTkhw15RqpKM...|  1.0|Walked in around ...|-mA3-1mN4JIEkqOtd...|\n",
      "|FxLfqxdYPA6Z85PFK...|Z7wgXp98wYB57QdRY...|  4.0|Wow. So surprised...|GYNnVehQeXjty0xH7...|\n",
      "|LUN6swQYa4xJKaM_U...|qlXw1JQ0UodW7qrmV...|  4.0|Michael from Red ...|bAhqAPoWaZYcyYi7b...|\n",
      "|AakkkTuGZA2KBodKi...|JVcjMhlavKKn3UIt9...|  1.0|I cannot believe ...|TpyOT5E16YASd7EWj...|\n",
      "|YvrylyuWgbP90RgMq...|svK3nBU7Rk8VfGorl...|  5.0|You can't really ...|NJlxGtouq06hhC7sS...|\n",
      "|NyLYY8q1-H3hfsTwu...|1wVA2-vQIuW_ClmXk...|  4.0|Great lunch today...|86J5DwcFk4f4In1Vx...|\n",
      "|cHdJXLlKNWixBXpDw...|6BnQwlxRn7ZuWdzni...|  3.0|I love chinese fo...|JSrP-dUmLlwZiI7Dp...|\n",
      "|6lj2BJ4tJeu7db5as...|rEITo90tpyKmEfNDp...|  5.0|We've been a huge...|6Fz_nus_OG4gar721...|\n",
      "|y-Iw6dZflNix4BdwI...|4bUyL7lzoWzDZaJET...|  3.0|Good selection of...|_N7Ndn29bpll_961o...|\n",
      "+--------------------+--------------------+-----+--------------------+--------------------+\n",
      "only showing top 20 rows\n",
      "\n"
     ]
    }
   ],
   "source": [
    "review_sdf.show()"
   ]
  },
  {
   "cell_type": "code",
   "execution_count": 13,
   "metadata": {},
   "outputs": [],
   "source": [
    "business_sdf.createOrReplaceTempView('yelp_business')\n",
    "review_sdf.createOrReplaceTempView('yelp_review')\n",
    "user_sdf.createOrReplaceTempView('yelp_user')"
   ]
  },
  {
   "cell_type": "code",
   "execution_count": 14,
   "metadata": {},
   "outputs": [],
   "source": [
    "# def replace_none_with_null(x):\n",
    "#     # This function should take a string parameter and compare it with \n",
    "#     # 'None' and 'Na'. If there is a match to either, it should return\n",
    "#     # the Python None value otherwise it should return the passed value.\n",
    "\n",
    "#     # *** YOUR CODE HERE ***\n",
    "#     if((x == 'None') or (x == 'Na')):\n",
    "#         return None\n",
    "#     else:\n",
    "#         return x"
   ]
  },
  {
   "cell_type": "code",
   "execution_count": 15,
   "metadata": {},
   "outputs": [],
   "source": [
    "# from pyspark.sql.functions import udf\n",
    "# from pyspark.sql.types import StringType, NullType\n",
    "\n",
    "# spark.udf.register('replace_none_with_null', replace_none_with_null,StringType())\n",
    "# spark_replace_none_with_null = udf(replace_none_with_null, StringType())"
   ]
  },
  {
   "cell_type": "code",
   "execution_count": 16,
   "metadata": {},
   "outputs": [],
   "source": [
    "# business_sdf = spark.sql(\"SELECT replace_none_with_null(business_id) AS business_id, replace_none_with_null(name) AS business_name, replace_none_with_null(address) AS address, replace_none_with_null(city) AS city, replace_none_with_null(state) AS state, replace_none_with_null(latitude) AS latitude, replace_none_with_null(longitude) AS longitude, replace_none_with_null(stars) AS stars, replace_none_with_null(hours) AS hours, replace_none_with_null(categories) AS categories\\\n",
    "#                                     FROM yelp_business\")\n",
    "# business_sdf.createOrReplaceTempView('yelp_business')"
   ]
  },
  {
   "cell_type": "code",
   "execution_count": 17,
   "metadata": {},
   "outputs": [],
   "source": [
    "# user_sdf = spark.sql(\"SELECT replace_none_with_null(user_id) AS user_id, replace_none_with_null(name) AS user_name, replace_none_with_null(review_count) AS review_count, replace_none_with_null(average_stars) AS average_stars\\\n",
    "#                                     FROM yelp_user\")\n",
    "# user_sdf.createOrReplaceTempView('yelp_user')"
   ]
  },
  {
   "cell_type": "code",
   "execution_count": 18,
   "metadata": {},
   "outputs": [],
   "source": [
    "# review_sdf = spark.sql(\"SELECT replace_none_with_null(user_id) AS user_id, replace_none_with_null(business_id) AS business_id, replace_none_with_null(text) AS text, replace_none_with_null(stars) AS stars\\\n",
    "#                                     FROM yelp_review\")\n",
    "# review_sdf.createOrReplaceTempView('review_user')"
   ]
  },
  {
   "cell_type": "code",
   "execution_count": 19,
   "metadata": {},
   "outputs": [],
   "source": [
    "business_sdf = business_sdf.withColumn(\"business_id\", business_sdf[\"business_id\"].cast(\"string\"))\n",
    "business_sdf = business_sdf.withColumn(\"latitude\", business_sdf[\"latitude\"].cast(\"double\"))\n",
    "business_sdf = business_sdf.withColumn(\"longitude\", business_sdf[\"longitude\"].cast(\"double\"))\n",
    "business_sdf = business_sdf.withColumn(\"stars\", business_sdf[\"stars\"].cast(\"int\"))\n",
    "business_sdf = business_sdf.withColumn(\"hours\", business_sdf[\"hours\"].cast(\"string\"))"
   ]
  },
  {
   "cell_type": "code",
   "execution_count": 20,
   "metadata": {},
   "outputs": [
    {
     "data": {
      "text/plain": [
       "[('address', 'string'),\n",
       " ('business_id', 'string'),\n",
       " ('categories', 'string'),\n",
       " ('city', 'string'),\n",
       " ('hours', 'string'),\n",
       " ('latitude', 'double'),\n",
       " ('longitude', 'double'),\n",
       " ('name', 'string'),\n",
       " ('stars', 'int'),\n",
       " ('state', 'string')]"
      ]
     },
     "execution_count": 20,
     "metadata": {},
     "output_type": "execute_result"
    }
   ],
   "source": [
    "business_sdf.dtypes"
   ]
  },
  {
   "cell_type": "code",
   "execution_count": 21,
   "metadata": {},
   "outputs": [],
   "source": [
    "user_sdf = user_sdf.withColumn(\"user_id\", user_sdf[\"user_id\"].cast(\"string\"))\n",
    "user_sdf = user_sdf.withColumn(\"review_count\", user_sdf[\"review_count\"].cast(\"int\"))\n",
    "user_sdf = user_sdf.withColumn(\"average_stars\", user_sdf[\"average_stars\"].cast(\"double\"))"
   ]
  },
  {
   "cell_type": "code",
   "execution_count": 22,
   "metadata": {},
   "outputs": [
    {
     "data": {
      "text/plain": [
       "[('average_stars', 'double'),\n",
       " ('name', 'string'),\n",
       " ('review_count', 'int'),\n",
       " ('user_id', 'string')]"
      ]
     },
     "execution_count": 22,
     "metadata": {},
     "output_type": "execute_result"
    }
   ],
   "source": [
    "user_sdf.dtypes"
   ]
  },
  {
   "cell_type": "code",
   "execution_count": 4,
   "metadata": {},
   "outputs": [],
   "source": [
    "review_sdf = review_sdf.withColumn(\"user_id\", review_sdf[\"user_id\"].cast(\"string\"))\n",
    "review_sdf = review_sdf.withColumn(\"business_id\", review_sdf[\"business_id\"].cast(\"string\"))\n",
    "review_sdf = review_sdf.withColumn(\"stars\", review_sdf[\"stars\"].cast(\"int\"))"
   ]
  },
  {
   "cell_type": "code",
   "execution_count": 5,
   "metadata": {},
   "outputs": [
    {
     "name": "stdout",
     "output_type": "stream",
     "text": [
      "+--------------------+--------------------+-----+--------------------+--------------------+\n",
      "|         business_id|           review_id|stars|                text|             user_id|\n",
      "+--------------------+--------------------+-----+--------------------+--------------------+\n",
      "|ujmEBvifdJM6h6RLv...|Q1sbwvVQXV2734tPg...|    1|Total bill for th...|hG7b0MtEbXx5QzbzE...|\n",
      "|NZnhc2sEQy3RmzKTZ...|GJXCdrto3ASJOqKeV...|    5|I *adore* Travis ...|yXQM5uF2jS6es16SJ...|\n",
      "|WTqjgwHlXbSFevF32...|2TzJjDVDEuAW6MR5V...|    5|I have to say tha...|n6-Gk65cPZL6Uz8qR...|\n",
      "|ikCg8xy5JIg_NGPx-...|yi0R0Ugj_xUx_Nek0...|    5|Went in for a lun...|dacAIZ6fTM6mqwW5u...|\n",
      "|b1b1eb3uo-w561D0Z...|11a8sVPMUFtaC7_AB...|    1|Today was my seco...|ssoyf2_x0EQMed6fg...|\n",
      "|eU_713ec6fTGNO4Be...|fdiNeiN_hoCxCMy2w...|    4|I'll be the first...|w31MKYsNFMrjhWxxA...|\n",
      "|3fw2X5bZYeW9xCz_z...|G7XHMxG0bx9oBJNEC...|    3|Tracy dessert had...|jlu4CztcSxrKx56ba...|\n",
      "|zvO-PJCpNk4fgAVUn...|8e9HxxLjjqc9ez5ez...|    1|This place has go...|d6xvYpyzcfbF_AZ8v...|\n",
      "|b2jN2mm9Wf3RcrZCg...|qrffudO73zsslZbe8...|    2|I was really look...|sG_h0dIzTKWa3Q6fm...|\n",
      "|oxwGyA17NL6c5t1Et...|RS_GTIT6836bCaPy6...|    3|It's a giant Best...|nMeCE5-xsdleyxYuN...|\n",
      "|8mIrX_LrOnAqWsB5J...|kbtscdyz6lvrtGjD1...|    4|Like walking back...|FIk4lQQu1eTe2EpzQ...|\n",
      "|mRUVMJkUGxrByzMQ2...|-I5umRTkhw15RqpKM...|    1|Walked in around ...|-mA3-1mN4JIEkqOtd...|\n",
      "|FxLfqxdYPA6Z85PFK...|Z7wgXp98wYB57QdRY...|    4|Wow. So surprised...|GYNnVehQeXjty0xH7...|\n",
      "|LUN6swQYa4xJKaM_U...|qlXw1JQ0UodW7qrmV...|    4|Michael from Red ...|bAhqAPoWaZYcyYi7b...|\n",
      "|AakkkTuGZA2KBodKi...|JVcjMhlavKKn3UIt9...|    1|I cannot believe ...|TpyOT5E16YASd7EWj...|\n",
      "|YvrylyuWgbP90RgMq...|svK3nBU7Rk8VfGorl...|    5|You can't really ...|NJlxGtouq06hhC7sS...|\n",
      "|NyLYY8q1-H3hfsTwu...|1wVA2-vQIuW_ClmXk...|    4|Great lunch today...|86J5DwcFk4f4In1Vx...|\n",
      "|cHdJXLlKNWixBXpDw...|6BnQwlxRn7ZuWdzni...|    3|I love chinese fo...|JSrP-dUmLlwZiI7Dp...|\n",
      "|6lj2BJ4tJeu7db5as...|rEITo90tpyKmEfNDp...|    5|We've been a huge...|6Fz_nus_OG4gar721...|\n",
      "|y-Iw6dZflNix4BdwI...|4bUyL7lzoWzDZaJET...|    3|Good selection of...|_N7Ndn29bpll_961o...|\n",
      "+--------------------+--------------------+-----+--------------------+--------------------+\n",
      "only showing top 20 rows\n",
      "\n"
     ]
    }
   ],
   "source": [
    "review_sdf.show()"
   ]
  },
  {
   "cell_type": "code",
   "execution_count": 28,
   "metadata": {},
   "outputs": [],
   "source": [
    "business_df = business_sdf.toPandas()"
   ]
  },
  {
   "cell_type": "code",
   "execution_count": 29,
   "metadata": {},
   "outputs": [],
   "source": [
    "business_df.to_csv('business_df.csv')"
   ]
  },
  {
   "cell_type": "code",
   "execution_count": 30,
   "metadata": {},
   "outputs": [],
   "source": [
    "user_df = user_sdf.toPandas()\n",
    "user_df.to_csv('user_df.csv')"
   ]
  },
  {
   "cell_type": "code",
   "execution_count": 14,
   "metadata": {},
   "outputs": [
    {
     "data": {
      "text/plain": [
       "6685900"
      ]
     },
     "execution_count": 14,
     "metadata": {},
     "output_type": "execute_result"
    }
   ],
   "source": [
    "review_sdf.count()"
   ]
  },
  {
   "cell_type": "code",
   "execution_count": 12,
   "metadata": {},
   "outputs": [],
   "source": [
    "review_df = review_sdf.limit(50000).toPandas()"
   ]
  },
  {
   "cell_type": "code",
   "execution_count": 13,
   "metadata": {},
   "outputs": [],
   "source": [
    "review_df.to_csv('review_df.csv')"
   ]
  },
  {
   "cell_type": "code",
   "execution_count": 26,
   "metadata": {},
   "outputs": [
    {
     "name": "stderr",
     "output_type": "stream",
     "text": [
      "ERROR:root:Exception while sending command.\n",
      "Traceback (most recent call last):\n",
      "  File \"/usr/local/spark/python/lib/py4j-0.10.7-src.zip/py4j/java_gateway.py\", line 1159, in send_command\n",
      "    raise Py4JNetworkError(\"Answer from Java side is empty\")\n",
      "py4j.protocol.Py4JNetworkError: Answer from Java side is empty\n",
      "\n",
      "During handling of the above exception, another exception occurred:\n",
      "\n",
      "Traceback (most recent call last):\n",
      "  File \"/usr/local/spark/python/lib/py4j-0.10.7-src.zip/py4j/java_gateway.py\", line 985, in send_command\n",
      "    response = connection.send_command(command)\n",
      "  File \"/usr/local/spark/python/lib/py4j-0.10.7-src.zip/py4j/java_gateway.py\", line 1164, in send_command\n",
      "    \"Error while receiving\", e, proto.ERROR_ON_RECEIVE)\n",
      "py4j.protocol.Py4JNetworkError: Error while receiving\n"
     ]
    },
    {
     "ename": "Py4JError",
     "evalue": "An error occurred while calling o99.write",
     "output_type": "error",
     "traceback": [
      "\u001b[0;31m---------------------------------------------------------------------------\u001b[0m",
      "\u001b[0;31mPy4JError\u001b[0m                                 Traceback (most recent call last)",
      "\u001b[0;32m<ipython-input-26-a654752d1a4d>\u001b[0m in \u001b[0;36m<module>\u001b[0;34m\u001b[0m\n\u001b[0;32m----> 1\u001b[0;31m \u001b[0mreview_sdf\u001b[0m\u001b[0;34m.\u001b[0m\u001b[0mwrite\u001b[0m\u001b[0;34m.\u001b[0m\u001b[0mformat\u001b[0m\u001b[0;34m(\u001b[0m\u001b[0;34m\"csv\"\u001b[0m\u001b[0;34m)\u001b[0m\u001b[0;34m.\u001b[0m\u001b[0msave\u001b[0m\u001b[0;34m(\u001b[0m\u001b[0;34m'/Users/alinaguo/Desktop'\u001b[0m\u001b[0;34m)\u001b[0m\u001b[0;34m\u001b[0m\u001b[0;34m\u001b[0m\u001b[0m\n\u001b[0m",
      "\u001b[0;32m/usr/local/spark/python/pyspark/sql/dataframe.py\u001b[0m in \u001b[0;36mwrite\u001b[0;34m(self)\u001b[0m\n\u001b[1;32m    226\u001b[0m         \u001b[0;34m:\u001b[0m\u001b[0;32mreturn\u001b[0m\u001b[0;34m:\u001b[0m \u001b[0;34m:\u001b[0m\u001b[0;32mclass\u001b[0m\u001b[0;34m:\u001b[0m\u001b[0;31m`\u001b[0m\u001b[0mDataFrameWriter\u001b[0m\u001b[0;31m`\u001b[0m\u001b[0;34m\u001b[0m\u001b[0;34m\u001b[0m\u001b[0m\n\u001b[1;32m    227\u001b[0m         \"\"\"\n\u001b[0;32m--> 228\u001b[0;31m         \u001b[0;32mreturn\u001b[0m \u001b[0mDataFrameWriter\u001b[0m\u001b[0;34m(\u001b[0m\u001b[0mself\u001b[0m\u001b[0;34m)\u001b[0m\u001b[0;34m\u001b[0m\u001b[0;34m\u001b[0m\u001b[0m\n\u001b[0m\u001b[1;32m    229\u001b[0m \u001b[0;34m\u001b[0m\u001b[0m\n\u001b[1;32m    230\u001b[0m     \u001b[0;34m@\u001b[0m\u001b[0mproperty\u001b[0m\u001b[0;34m\u001b[0m\u001b[0;34m\u001b[0m\u001b[0m\n",
      "\u001b[0;32m/usr/local/spark/python/pyspark/sql/readwriter.py\u001b[0m in \u001b[0;36m__init__\u001b[0;34m(self, df)\u001b[0m\n\u001b[1;32m    570\u001b[0m         \u001b[0mself\u001b[0m\u001b[0;34m.\u001b[0m\u001b[0m_df\u001b[0m \u001b[0;34m=\u001b[0m \u001b[0mdf\u001b[0m\u001b[0;34m\u001b[0m\u001b[0;34m\u001b[0m\u001b[0m\n\u001b[1;32m    571\u001b[0m         \u001b[0mself\u001b[0m\u001b[0;34m.\u001b[0m\u001b[0m_spark\u001b[0m \u001b[0;34m=\u001b[0m \u001b[0mdf\u001b[0m\u001b[0;34m.\u001b[0m\u001b[0msql_ctx\u001b[0m\u001b[0;34m\u001b[0m\u001b[0;34m\u001b[0m\u001b[0m\n\u001b[0;32m--> 572\u001b[0;31m         \u001b[0mself\u001b[0m\u001b[0;34m.\u001b[0m\u001b[0m_jwrite\u001b[0m \u001b[0;34m=\u001b[0m \u001b[0mdf\u001b[0m\u001b[0;34m.\u001b[0m\u001b[0m_jdf\u001b[0m\u001b[0;34m.\u001b[0m\u001b[0mwrite\u001b[0m\u001b[0;34m(\u001b[0m\u001b[0;34m)\u001b[0m\u001b[0;34m\u001b[0m\u001b[0;34m\u001b[0m\u001b[0m\n\u001b[0m\u001b[1;32m    573\u001b[0m \u001b[0;34m\u001b[0m\u001b[0m\n\u001b[1;32m    574\u001b[0m     \u001b[0;32mdef\u001b[0m \u001b[0m_sq\u001b[0m\u001b[0;34m(\u001b[0m\u001b[0mself\u001b[0m\u001b[0;34m,\u001b[0m \u001b[0mjsq\u001b[0m\u001b[0;34m)\u001b[0m\u001b[0;34m:\u001b[0m\u001b[0;34m\u001b[0m\u001b[0;34m\u001b[0m\u001b[0m\n",
      "\u001b[0;32m/usr/local/spark/python/lib/py4j-0.10.7-src.zip/py4j/java_gateway.py\u001b[0m in \u001b[0;36m__call__\u001b[0;34m(self, *args)\u001b[0m\n\u001b[1;32m   1255\u001b[0m         \u001b[0manswer\u001b[0m \u001b[0;34m=\u001b[0m \u001b[0mself\u001b[0m\u001b[0;34m.\u001b[0m\u001b[0mgateway_client\u001b[0m\u001b[0;34m.\u001b[0m\u001b[0msend_command\u001b[0m\u001b[0;34m(\u001b[0m\u001b[0mcommand\u001b[0m\u001b[0;34m)\u001b[0m\u001b[0;34m\u001b[0m\u001b[0;34m\u001b[0m\u001b[0m\n\u001b[1;32m   1256\u001b[0m         return_value = get_return_value(\n\u001b[0;32m-> 1257\u001b[0;31m             answer, self.gateway_client, self.target_id, self.name)\n\u001b[0m\u001b[1;32m   1258\u001b[0m \u001b[0;34m\u001b[0m\u001b[0m\n\u001b[1;32m   1259\u001b[0m         \u001b[0;32mfor\u001b[0m \u001b[0mtemp_arg\u001b[0m \u001b[0;32min\u001b[0m \u001b[0mtemp_args\u001b[0m\u001b[0;34m:\u001b[0m\u001b[0;34m\u001b[0m\u001b[0;34m\u001b[0m\u001b[0m\n",
      "\u001b[0;32m/usr/local/spark/python/pyspark/sql/utils.py\u001b[0m in \u001b[0;36mdeco\u001b[0;34m(*a, **kw)\u001b[0m\n\u001b[1;32m     61\u001b[0m     \u001b[0;32mdef\u001b[0m \u001b[0mdeco\u001b[0m\u001b[0;34m(\u001b[0m\u001b[0;34m*\u001b[0m\u001b[0ma\u001b[0m\u001b[0;34m,\u001b[0m \u001b[0;34m**\u001b[0m\u001b[0mkw\u001b[0m\u001b[0;34m)\u001b[0m\u001b[0;34m:\u001b[0m\u001b[0;34m\u001b[0m\u001b[0;34m\u001b[0m\u001b[0m\n\u001b[1;32m     62\u001b[0m         \u001b[0;32mtry\u001b[0m\u001b[0;34m:\u001b[0m\u001b[0;34m\u001b[0m\u001b[0;34m\u001b[0m\u001b[0m\n\u001b[0;32m---> 63\u001b[0;31m             \u001b[0;32mreturn\u001b[0m \u001b[0mf\u001b[0m\u001b[0;34m(\u001b[0m\u001b[0;34m*\u001b[0m\u001b[0ma\u001b[0m\u001b[0;34m,\u001b[0m \u001b[0;34m**\u001b[0m\u001b[0mkw\u001b[0m\u001b[0;34m)\u001b[0m\u001b[0;34m\u001b[0m\u001b[0;34m\u001b[0m\u001b[0m\n\u001b[0m\u001b[1;32m     64\u001b[0m         \u001b[0;32mexcept\u001b[0m \u001b[0mpy4j\u001b[0m\u001b[0;34m.\u001b[0m\u001b[0mprotocol\u001b[0m\u001b[0;34m.\u001b[0m\u001b[0mPy4JJavaError\u001b[0m \u001b[0;32mas\u001b[0m \u001b[0me\u001b[0m\u001b[0;34m:\u001b[0m\u001b[0;34m\u001b[0m\u001b[0;34m\u001b[0m\u001b[0m\n\u001b[1;32m     65\u001b[0m             \u001b[0ms\u001b[0m \u001b[0;34m=\u001b[0m \u001b[0me\u001b[0m\u001b[0;34m.\u001b[0m\u001b[0mjava_exception\u001b[0m\u001b[0;34m.\u001b[0m\u001b[0mtoString\u001b[0m\u001b[0;34m(\u001b[0m\u001b[0;34m)\u001b[0m\u001b[0;34m\u001b[0m\u001b[0;34m\u001b[0m\u001b[0m\n",
      "\u001b[0;32m/usr/local/spark/python/lib/py4j-0.10.7-src.zip/py4j/protocol.py\u001b[0m in \u001b[0;36mget_return_value\u001b[0;34m(answer, gateway_client, target_id, name)\u001b[0m\n\u001b[1;32m    334\u001b[0m             raise Py4JError(\n\u001b[1;32m    335\u001b[0m                 \u001b[0;34m\"An error occurred while calling {0}{1}{2}\"\u001b[0m\u001b[0;34m.\u001b[0m\u001b[0;34m\u001b[0m\u001b[0;34m\u001b[0m\u001b[0m\n\u001b[0;32m--> 336\u001b[0;31m                 format(target_id, \".\", name))\n\u001b[0m\u001b[1;32m    337\u001b[0m     \u001b[0;32melse\u001b[0m\u001b[0;34m:\u001b[0m\u001b[0;34m\u001b[0m\u001b[0;34m\u001b[0m\u001b[0m\n\u001b[1;32m    338\u001b[0m         \u001b[0mtype\u001b[0m \u001b[0;34m=\u001b[0m \u001b[0manswer\u001b[0m\u001b[0;34m[\u001b[0m\u001b[0;36m1\u001b[0m\u001b[0;34m]\u001b[0m\u001b[0;34m\u001b[0m\u001b[0;34m\u001b[0m\u001b[0m\n",
      "\u001b[0;31mPy4JError\u001b[0m: An error occurred while calling o99.write"
     ]
    }
   ],
   "source": [
    "review_sdf.write.format(\"csv\").save('/Users/alinaguo/Desktop')"
   ]
  },
  {
   "cell_type": "code",
   "execution_count": null,
   "metadata": {},
   "outputs": [],
   "source": []
  }
 ],
 "metadata": {
  "kernelspec": {
   "display_name": "Python 3",
   "language": "python",
   "name": "python3"
  },
  "language_info": {
   "codemirror_mode": {
    "name": "ipython",
    "version": 3
   },
   "file_extension": ".py",
   "mimetype": "text/x-python",
   "name": "python",
   "nbconvert_exporter": "python",
   "pygments_lexer": "ipython3",
   "version": "3.7.1"
  }
 },
 "nbformat": 4,
 "nbformat_minor": 2
}
